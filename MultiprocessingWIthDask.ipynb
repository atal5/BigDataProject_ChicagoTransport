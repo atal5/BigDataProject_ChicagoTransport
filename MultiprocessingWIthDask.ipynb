{
 "cells": [
  {
   "cell_type": "code",
   "execution_count": 6,
   "metadata": {},
   "outputs": [
    {
     "name": "stderr",
     "output_type": "stream",
     "text": [
      "UsageError: Line magic function `%install_ext` not found.\n"
     ]
    }
   ],
   "source": [
    "%install_ext https://raw.github.com/cpcloud/ipython-autotime/master/autotime.py\n",
    "%load_ext autotime"
   ]
  },
  {
   "cell_type": "code",
   "execution_count": 18,
   "metadata": {},
   "outputs": [
    {
     "name": "stderr",
     "output_type": "stream",
     "text": [
      "C:\\ProgramData\\Anaconda3\\envs\\daskenv\\lib\\site-packages\\distributed\\dashboard\\core.py:72: UserWarning: \n",
      "Port 8787 is already in use. \n",
      "Perhaps you already have a cluster running?\n",
      "Hosting the diagnostics dashboard on a random port instead.\n",
      "  warnings.warn(\"\\n\" + msg)\n"
     ]
    }
   ],
   "source": [
    "from dask.distributed import Client\n",
    "client = Client()  # start distributed scheduler locally.  Launch dashboard"
   ]
  },
  {
   "cell_type": "code",
   "execution_count": 27,
   "metadata": {},
   "outputs": [],
   "source": [
    "from dask.diagnostics import ProgressBar\n",
    "import pandas as pd\n",
    "import numpy as np\n",
    "import dask.dataframe as dd\n",
    "from dask.multiprocessing import get\n",
    "import multiprocessing\n"
   ]
  },
  {
   "cell_type": "code",
   "execution_count": 4,
   "metadata": {},
   "outputs": [],
   "source": [
    "import pandas as pd\n",
    "divvy_aggregate = pd.read_csv('./divvy_aggregate_new.csv')\n",
    "divvy_aggregate.head()\n",
    "divvy_aggregate['latitudeStart']= divvy_aggregate['latitudeStart'].astype('float64')"
   ]
  },
  {
   "cell_type": "code",
   "execution_count": 11,
   "metadata": {},
   "outputs": [
    {
     "data": {
      "text/plain": [
       "'LOOP'"
      ]
     },
     "execution_count": 11,
     "metadata": {},
     "output_type": "execute_result"
    }
   ],
   "source": [
    "import gps_to_neighborhood as gps\n",
    "all_neighborhoods = gps.get_all_neighborhoods()\n",
    "def find_nbr(lon,lat):\n",
    "    #print(lon_lat)\n",
    "    return gps.find_neighborhood(lon,lat,all_neighborhoods)\n",
    "find_nbr(-87.616743,41.880958)"
   ]
  },
  {
   "cell_type": "code",
   "execution_count": 21,
   "metadata": {},
   "outputs": [
    {
     "name": "stdout",
     "output_type": "stream",
     "text": [
      "Wall time: 999 µs\n"
     ]
    }
   ],
   "source": [
    "%%time\n",
    "data = divvy_aggregate.loc[:10000,['longitudeStart','latitudeStart']]"
   ]
  },
  {
   "cell_type": "code",
   "execution_count": 28,
   "metadata": {},
   "outputs": [
    {
     "data": {
      "text/plain": [
       "12"
      ]
     },
     "execution_count": 28,
     "metadata": {},
     "output_type": "execute_result"
    }
   ],
   "source": [
    "multiprocessing.cpu_count()"
   ]
  },
  {
   "cell_type": "code",
   "execution_count": null,
   "metadata": {},
   "outputs": [
    {
     "name": "stdout",
     "output_type": "stream",
     "text": [
      "[################################        ] | 81% Completed | 35min 29.1s"
     ]
    }
   ],
   "source": [
    "%%time\n",
    "data = divvy_aggregate[['longitudeStart','latitudeStart']]\n",
    "ddata = dd.from_pandas(data, npartitions=4*multiprocessing.cpu_count())\n",
    "\n",
    "with ProgressBar():\n",
    "    res = ddata.map_partitions(lambda df: df.apply((lambda row: find_nbr(*row)), axis=1)).compute(scheduler='processes') "
   ]
  },
  {
   "cell_type": "code",
   "execution_count": null,
   "metadata": {},
   "outputs": [],
   "source": [
    "res.shape"
   ]
  },
  {
   "cell_type": "markdown",
   "metadata": {},
   "source": [
    "## Consolidated Code"
   ]
  },
  {
   "cell_type": "code",
   "execution_count": null,
   "metadata": {},
   "outputs": [],
   "source": [
    "from dask.distributed import Client\n",
    "client = Client()  # start distributed scheduler locally.  Launch dashboard\n",
    "from dask.diagnostics import ProgressBar\n",
    "import pandas as pd\n",
    "import numpy as np\n",
    "import dask.dataframe as dd\n",
    "from dask.multiprocessing import get\n",
    "import multiprocessing\n",
    "import pandas as pd\n",
    "\n",
    "\n",
    "divvy_aggregate = pd.read_csv('./divvy_aggregate_new.csv')\n",
    "divvy_aggregate.head()\n",
    "divvy_aggregate['latitudeStart']= divvy_aggregate['latitudeStart'].astype('float64')\n",
    "\n",
    "\n",
    "import gps_to_neighborhood as gps\n",
    "all_neighborhoods = gps.get_all_neighborhoods()\n",
    "def find_nbr(lon,lat):\n",
    "    #print(lon_lat)\n",
    "    return gps.find_neighborhood(lon,lat,all_neighborhoods)\n",
    "find_nbr(-87.616743,41.880958)\n",
    "\n",
    "#%%time\n",
    "data = divvy_aggregate[['longitudeStart','latitudeStart']]\n",
    "ddata = dd.from_pandas(data, npartitions=4*multiprocessing.cpu_count())\n",
    "\n",
    "with ProgressBar():\n",
    "    res = ddata.map_partitions(lambda df: df.apply((lambda row: find_nbr(*row)), axis=1)).compute(scheduler='processes')\n",
    "    \n",
    "res.shape"
   ]
  }
 ],
 "metadata": {
  "kernelspec": {
   "display_name": "Python 3",
   "language": "python",
   "name": "python3"
  },
  "language_info": {
   "codemirror_mode": {
    "name": "ipython",
    "version": 3
   },
   "file_extension": ".py",
   "mimetype": "text/x-python",
   "name": "python",
   "nbconvert_exporter": "python",
   "pygments_lexer": "ipython3",
   "version": "3.6.9"
  }
 },
 "nbformat": 4,
 "nbformat_minor": 2
}
